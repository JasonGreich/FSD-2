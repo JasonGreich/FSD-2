{
 "cells": [
  {
   "cell_type": "code",
   "execution_count": 1,
   "metadata": {},
   "outputs": [],
   "source": [
    "import pandas as pd\n",
    "import subprocess\n",
    "\n",
    "def run_command(command):\n",
    "    \"\"\"Helper to run shell commands with error handling.\"\"\"\n",
    "    try:\n",
    "        result = subprocess.run(command, shell=True, check=True, capture_output=True, text=True)\n",
    "        print(result.stdout)\n",
    "    except subprocess.CalledProcessError as e:\n",
    "        print(f\"Error executing command: {e.stderr}\")\n"
   ]
  },
  {
   "cell_type": "code",
   "execution_count": 2,
   "metadata": {},
   "outputs": [
    {
     "name": "stdout",
     "output_type": "stream",
     "text": [
      "On branch master\n",
      "\n",
      "No commits yet\n",
      "\n",
      "Changes to be committed:\n",
      "  (use \"git rm --cached <file>...\" to unstage)\n",
      "\tnew file:   .dvc/.gitignore\n",
      "\tnew file:   .dvc/config\n",
      "\tnew file:   .dvcignore\n",
      "\n",
      "Untracked files:\n",
      "  (use \"git add <file>...\" to include in what will be committed)\n",
      "\tML_Assignment_Jason.ipynb\n",
      "\tmovies.csv\n",
      "\n",
      "\n"
     ]
    }
   ],
   "source": [
    "def initialize_repo():\n",
    "    \"\"\"Initializes Git and DVC if not already done.\"\"\"\n",
    "    run_command('git init')\n",
    "    run_command('dvc init')\n",
    "    run_command('git branch -M main')\n",
    "\n",
    "# Check Git initialization\n",
    "try:\n",
    "    run_command('git status')\n",
    "except subprocess.CalledProcessError:\n",
    "    initialize_repo()\n"
   ]
  },
  {
   "cell_type": "code",
   "execution_count": 3,
   "metadata": {},
   "outputs": [
    {
     "name": "stdout",
     "output_type": "stream",
     "text": [
      "\n",
      "To track the changes with git, run:\n",
      "\n",
      "\tgit add .gitignore movies.csv.dvc\n",
      "\n",
      "To enable auto staging, run:\n",
      "\n",
      "\tdvc config core.autostage true\n",
      "\n",
      "\n",
      "[master (root-commit) 5274c5c] Stage 1: Initial data\n",
      " 4 files changed, 11 insertions(+)\n",
      " create mode 100644 .dvc/.gitignore\n",
      " create mode 100644 .dvc/config\n",
      " create mode 100644 .dvcignore\n",
      " create mode 100644 movies.csv.dvc\n",
      "\n",
      "Initial Data:\n",
      "| MOVIES                              | YEAR        | GENRE                        | RATING   | ONE-LINE                                                                                                                                                                                                            | STARS                   | VOTES   | RunTime   | Gross   |\n",
      "|:------------------------------------|:------------|:-----------------------------|:---------|:--------------------------------------------------------------------------------------------------------------------------------------------------------------------------------------------------------------------|:------------------------|:--------|:----------|:--------|\n",
      "| Blood Red Sky                       | (2021)      | Action, Horror, Thriller     | 6.1      | A woman with a mysterious illness is forced into action when a group of terrorists attempt to hijack a transatlantic overnight flight.                                                                              | Director:               | 21,062  | 121       | nan     |\n",
      "|                                     |             |                              |          |                                                                                                                                                                                                                     | Peter Thorwarth         |         |           |         |\n",
      "|                                     |             |                              |          |                                                                                                                                                                                                                     | |                       |         |           |         |\n",
      "|                                     |             |                              |          |                                                                                                                                                                                                                     |     Stars:              |         |           |         |\n",
      "|                                     |             |                              |          |                                                                                                                                                                                                                     | Peri Baumeister,        |         |           |         |\n",
      "|                                     |             |                              |          |                                                                                                                                                                                                                     | Carl Anton Koch,        |         |           |         |\n",
      "|                                     |             |                              |          |                                                                                                                                                                                                                     | Alexander Scheer,       |         |           |         |\n",
      "|                                     |             |                              |          |                                                                                                                                                                                                                     | Kais Setti              |         |           |         |\n",
      "| Masters of the Universe: Revelation | (2021– )    | Animation, Action, Adventure | 5        | The war for Eternia begins again in what may be the final battle between He-Man and Skeletor. A new animated series from writer-director Kevin Smith.                                                               | Stars:                  | 17,870  | 25        | nan     |\n",
      "|                                     |             |                              |          |                                                                                                                                                                                                                     | Chris Wood,             |         |           |         |\n",
      "|                                     |             |                              |          |                                                                                                                                                                                                                     | Sarah Michelle Gellar,  |         |           |         |\n",
      "|                                     |             |                              |          |                                                                                                                                                                                                                     | Lena Headey,            |         |           |         |\n",
      "|                                     |             |                              |          |                                                                                                                                                                                                                     | Mark Hamill             |         |           |         |\n",
      "| The Walking Dead                    | (2010–2022) | Drama, Horror, Thriller      | 8.2      | Sheriff Deputy Rick Grimes wakes up from a coma to learn the world is in ruins and must lead a group of survivors to stay alive.                                                                                    | Stars:                  | 885,805 | 44        | nan     |\n",
      "|                                     |             |                              |          |                                                                                                                                                                                                                     | Andrew Lincoln,         |         |           |         |\n",
      "|                                     |             |                              |          |                                                                                                                                                                                                                     | Norman Reedus,          |         |           |         |\n",
      "|                                     |             |                              |          |                                                                                                                                                                                                                     | Melissa McBride,        |         |           |         |\n",
      "|                                     |             |                              |          |                                                                                                                                                                                                                     | Lauren Cohan            |         |           |         |\n",
      "| Rick and Morty                      | (2013– )    | Animation, Adventure, Comedy | 9.2      | An animated series that follows the exploits of a super scientist and his not-so-bright grandson.                                                                                                                   | Stars:                  | 414,849 | 23        | nan     |\n",
      "|                                     |             |                              |          |                                                                                                                                                                                                                     | Justin Roiland,         |         |           |         |\n",
      "|                                     |             |                              |          |                                                                                                                                                                                                                     | Chris Parnell,          |         |           |         |\n",
      "|                                     |             |                              |          |                                                                                                                                                                                                                     | Spencer Grammer,        |         |           |         |\n",
      "|                                     |             |                              |          |                                                                                                                                                                                                                     | Sarah Chalke            |         |           |         |\n",
      "| Army of Thieves                     | (2021)      | Action, Crime, Horror        | nan      | A prequel, set before the events of Army of the Dead, which focuses on German safecracker Ludwig Dieter leading a group of aspiring thieves on a top secret heist during the early stages of the zombie apocalypse. | Director:               | nan     | nan       | nan     |\n",
      "|                                     |             |                              |          |                                                                                                                                                                                                                     | Matthias Schweighöfer   |         |           |         |\n",
      "|                                     |             |                              |          |                                                                                                                                                                                                                     | |                       |         |           |         |\n",
      "|                                     |             |                              |          |                                                                                                                                                                                                                     |     Stars:              |         |           |         |\n",
      "|                                     |             |                              |          |                                                                                                                                                                                                                     | Matthias Schweighöfer,  |         |           |         |\n",
      "|                                     |             |                              |          |                                                                                                                                                                                                                     | Nathalie Emmanuel,      |         |           |         |\n",
      "|                                     |             |                              |          |                                                                                                                                                                                                                     | Ruby O. Fee,            |         |           |         |\n",
      "|                                     |             |                              |          |                                                                                                                                                                                                                     | Stuart Martin           |         |           |         |\n"
     ]
    }
   ],
   "source": [
    "# Display settings\n",
    "pd.set_option('display.max_rows', None)\n",
    "pd.set_option('display.max_columns', None)\n",
    "\n",
    "# Read the original data\n",
    "df = pd.read_csv('movies.csv')\n",
    "\n",
    "# Stage 1: Initial data\n",
    "run_command('dvc add movies.csv')\n",
    "run_command('git add movies.csv.dvc')\n",
    "run_command('git commit -m \"Stage 1: Initial data\"')\n",
    "\n",
    "print(\"Initial Data:\")\n",
    "print(df.head().to_markdown(index=False, numalign=\"left\", stralign=\"left\"))\n"
   ]
  },
  {
   "cell_type": "code",
   "execution_count": 4,
   "metadata": {},
   "outputs": [
    {
     "name": "stdout",
     "output_type": "stream",
     "text": [
      "\n",
      "To track the changes with git, run:\n",
      "\n",
      "\tgit add movies.csv.dvc\n",
      "\n",
      "To enable auto staging, run:\n",
      "\n",
      "\tdvc config core.autostage true\n",
      "\n",
      "\n",
      "[master 9f1a0ab] Stage 2: Drop missing values\n",
      " 1 file changed, 2 insertions(+), 2 deletions(-)\n",
      "\n"
     ]
    }
   ],
   "source": [
    "# Stage 2: Drop rows with missing values\n",
    "df.dropna(subset=['RATING', 'VOTES'], inplace=True)\n",
    "df.to_csv('movies.csv', index=False)\n",
    "run_command('dvc add movies.csv')  \n",
    "run_command('git add movies.csv.dvc')\n",
    "run_command('git commit -m \"Stage 2: Drop missing values\"')\n"
   ]
  },
  {
   "cell_type": "code",
   "execution_count": 5,
   "metadata": {},
   "outputs": [
    {
     "name": "stdout",
     "output_type": "stream",
     "text": [
      "\n",
      "To track the changes with git, run:\n",
      "\n",
      "\tgit add movies.csv.dvc\n",
      "\n",
      "To enable auto staging, run:\n",
      "\n",
      "\tdvc config core.autostage true\n",
      "\n",
      "\n",
      "[master a107754] Stage 3: Clean and convert YEAR\n",
      " 1 file changed, 2 insertions(+), 2 deletions(-)\n",
      "\n"
     ]
    }
   ],
   "source": [
    "# Stage 3: Clean and convert `YEAR`\n",
    "df['YEAR'] = df['YEAR'].astype(str).str.replace(r'[()]', '', regex=True).str.replace(r'[^0-9]', '', regex=True)\n",
    "df['YEAR'] = pd.to_numeric(df['YEAR'], errors='coerce')\n",
    "df.to_csv('movies.csv', index=False)\n",
    "run_command('dvc add movies.csv')  \n",
    "run_command('git add movies.csv.dvc')\n",
    "run_command('git commit -m \"Stage 3: Clean and convert YEAR\"')\n"
   ]
  },
  {
   "cell_type": "code",
   "execution_count": 6,
   "metadata": {},
   "outputs": [
    {
     "name": "stdout",
     "output_type": "stream",
     "text": [
      "\n",
      "To track the changes with git, run:\n",
      "\n",
      "\tgit add movies.csv.dvc\n",
      "\n",
      "To enable auto staging, run:\n",
      "\n",
      "\tdvc config core.autostage true\n",
      "\n",
      "\n",
      "[master 1b68b13] Stage 4: Clean GENRE\n",
      " 1 file changed, 2 insertions(+), 2 deletions(-)\n",
      "\n"
     ]
    }
   ],
   "source": [
    "# Stage 4: Clean `GENRE`\n",
    "df['GENRE'] = df['GENRE'].astype(str).str.strip()\n",
    "df.to_csv('movies.csv', index=False)\n",
    "run_command('dvc add movies.csv')\n",
    "run_command('git add movies.csv.dvc')\n",
    "run_command('git commit -m \"Stage 4: Clean GENRE\"')\n"
   ]
  },
  {
   "cell_type": "code",
   "execution_count": 7,
   "metadata": {},
   "outputs": [
    {
     "name": "stdout",
     "output_type": "stream",
     "text": [
      "\n",
      "To track the changes with git, run:\n",
      "\n",
      "\tgit add movies.csv.dvc\n",
      "\n",
      "To enable auto staging, run:\n",
      "\n",
      "\tdvc config core.autostage true\n",
      "\n",
      "\n",
      "[master 3391509] Stage 5: Clean and convert VOTES\n",
      " 1 file changed, 2 insertions(+), 2 deletions(-)\n",
      "\n"
     ]
    }
   ],
   "source": [
    "# Stage 5: Clean and convert `VOTES`\n",
    "df['VOTES'] = df['VOTES'].astype(str).str.replace(',', '', regex=True)\n",
    "df['VOTES'] = pd.to_numeric(df['VOTES'], errors='coerce')\n",
    "df.to_csv('movies.csv', index=False)\n",
    "run_command('dvc add movies.csv')\n",
    "run_command('git add movies.csv.dvc')\n",
    "run_command('git commit -m \"Stage 5: Clean and convert VOTES\"')\n"
   ]
  },
  {
   "cell_type": "code",
   "execution_count": 8,
   "metadata": {},
   "outputs": [
    {
     "name": "stdout",
     "output_type": "stream",
     "text": [
      "\n",
      "To track the changes with git, run:\n",
      "\n",
      "\tgit add movies.csv.dvc\n",
      "\n",
      "To enable auto staging, run:\n",
      "\n",
      "\tdvc config core.autostage true\n",
      "\n",
      "\n",
      "[master 73ece56] Stage 6: Clean and convert Gross\n",
      " 1 file changed, 2 insertions(+), 2 deletions(-)\n",
      "\n"
     ]
    }
   ],
   "source": [
    "# Stage 6: Clean and convert `Gross` (in millions)\n",
    "df['Gross'] = df['Gross'].astype(str).str.replace(r'[$,M]', '', regex=True)\n",
    "df['Gross'] = pd.to_numeric(df['Gross'], errors='coerce')\n",
    "df.to_csv('movies.csv', index=False)\n",
    "run_command('dvc add movies.csv')\n",
    "run_command('git add movies.csv.dvc')\n",
    "run_command('git commit -m \"Stage 6: Clean and convert Gross\"')\n"
   ]
  },
  {
   "cell_type": "code",
   "execution_count": 9,
   "metadata": {},
   "outputs": [
    {
     "name": "stdout",
     "output_type": "stream",
     "text": [
      "\n",
      "To track the changes with git, run:\n",
      "\n",
      "\tgit add movies.csv.dvc\n",
      "\n",
      "To enable auto staging, run:\n",
      "\n",
      "\tdvc config core.autostage true\n",
      "\n",
      "\n",
      "[master 1703f1e] Stage 7: Fill missing Gross values\n",
      " 1 file changed, 2 insertions(+), 2 deletions(-)\n",
      "\n"
     ]
    }
   ],
   "source": [
    "# Stage 7: Fill missing Gross values\n",
    "df['Gross'] = df['Gross'].fillna(0)\n",
    "df.to_csv('movies.csv', index=False) \n",
    "run_command('dvc add movies.csv')\n",
    "run_command('git add movies.csv.dvc')\n",
    "run_command('git commit -m \"Stage 7: Fill missing Gross values\"')\n"
   ]
  },
  {
   "cell_type": "code",
   "execution_count": 10,
   "metadata": {},
   "outputs": [
    {
     "name": "stdout",
     "output_type": "stream",
     "text": [
      "\n",
      "To track the changes with git, run:\n",
      "\n",
      "\tgit add movies.csv.dvc\n",
      "\n",
      "To enable auto staging, run:\n",
      "\n",
      "\tdvc config core.autostage true\n",
      "\n",
      "\n",
      "[master aae69fb] Stage 8: Drop ONE-LINE and STARS columns\n",
      " 1 file changed, 2 insertions(+), 2 deletions(-)\n",
      "\n"
     ]
    }
   ],
   "source": [
    "# Stage 8: Drop columns\n",
    "df.drop(columns=['ONE-LINE', 'STARS'], inplace=True)\n",
    "df.to_csv('movies.csv', index=False) \n",
    "run_command('dvc add movies.csv')\n",
    "run_command('git add movies.csv.dvc')\n",
    "run_command('git commit -m \"Stage 8: Drop ONE-LINE and STARS columns\"')\n"
   ]
  },
  {
   "cell_type": "code",
   "execution_count": 11,
   "metadata": {},
   "outputs": [
    {
     "name": "stdout",
     "output_type": "stream",
     "text": [
      "\n",
      "To track the changes with git, run:\n",
      "\n",
      "\tgit add movies.csv.dvc\n",
      "\n",
      "To enable auto staging, run:\n",
      "\n",
      "\tdvc config core.autostage true\n",
      "\n",
      "\n",
      "[master cbd4cb1] Final stage: Drop duplicates\n",
      " 1 file changed, 2 insertions(+), 2 deletions(-)\n",
      "\n"
     ]
    }
   ],
   "source": [
    "# Final Stage: Drop duplicates\n",
    "num_duplicates = df.duplicated().sum()\n",
    "if num_duplicates > 0:\n",
    "    df.drop_duplicates(inplace=True)\n",
    "    df.to_csv('movies.csv', index=False)\n",
    "    run_command('dvc add movies.csv')\n",
    "    run_command('git add movies.csv.dvc')\n",
    "    run_command('git commit -m \"Final stage: Drop duplicates\"')\n"
   ]
  },
  {
   "cell_type": "code",
   "execution_count": 12,
   "metadata": {},
   "outputs": [
    {
     "name": "stdout",
     "output_type": "stream",
     "text": [
      "commit cbd4cb12a8ed61952a54892460a3085120ef080f\n",
      "Author: Jason Greich <jasongreich@gmail.com>\n",
      "Date:   Tue Jul 30 21:29:48 2024 +0300\n",
      "\n",
      "    Final stage: Drop duplicates\n",
      "\n",
      "commit aae69fb465434aa8a7a419cc6fd8f682e3788d30\n",
      "Author: Jason Greich <jasongreich@gmail.com>\n",
      "Date:   Tue Jul 30 21:29:46 2024 +0300\n",
      "\n",
      "    Stage 8: Drop ONE-LINE and STARS columns\n",
      "\n",
      "commit 1703f1e352994a38f701cf149e2c4d515cfdf620\n",
      "Author: Jason Greich <jasongreich@gmail.com>\n",
      "Date:   Tue Jul 30 21:29:44 2024 +0300\n",
      "\n",
      "    Stage 7: Fill missing Gross values\n",
      "\n",
      "commit 73ece567ccfad4d03c316f9029fbb48e6931f49a\n",
      "Author: Jason Greich <jasongreich@gmail.com>\n",
      "Date:   Tue Jul 30 21:29:42 2024 +0300\n",
      "\n",
      "    Stage 6: Clean and convert Gross\n",
      "\n",
      "commit 3391509cb18ef16a5702db2bf9e2c7541d2cbd21\n",
      "Author: Jason Greich <jasongreich@gmail.com>\n",
      "Date:   Tue Jul 30 21:29:40 2024 +0300\n",
      "\n",
      "    Stage 5: Clean and convert VOTES\n",
      "\n",
      "commit 1b68b13a8738ff2ad3b87ab4e4aa8fa2f3b8d417\n",
      "Author: Jason Greich <jasongreich@gmail.com>\n",
      "Date:   Tue Jul 30 21:29:39 2024 +0300\n",
      "\n",
      "    Stage 4: Clean GENRE\n",
      "\n",
      "commit a1077549ec19dff5dd9ef0e63ec2d2af774e8e3b\n",
      "Author: Jason Greich <jasongreich@gmail.com>\n",
      "Date:   Tue Jul 30 21:29:37 2024 +0300\n",
      "\n",
      "    Stage 3: Clean and convert YEAR\n",
      "\n",
      "commit 9f1a0ab2486ae92fece1426850507663069929be\n",
      "Author: Jason Greich <jasongreich@gmail.com>\n",
      "Date:   Tue Jul 30 21:29:35 2024 +0300\n",
      "\n",
      "    Stage 2: Drop missing values\n",
      "\n",
      "commit 5274c5c1c461b380817a77a3eaf0bd468001b2ba\n",
      "Author: Jason Greich <jasongreich@gmail.com>\n",
      "Date:   Tue Jul 30 21:29:32 2024 +0300\n",
      "\n",
      "    Stage 1: Initial data\n",
      "\n"
     ]
    }
   ],
   "source": [
    "# Display Git log\n",
    "run_command('git log --all')\n"
   ]
  },
  {
   "cell_type": "code",
   "execution_count": 14,
   "metadata": {},
   "outputs": [
    {
     "name": "stdout",
     "output_type": "stream",
     "text": [
      "\n",
      "M       movies.csv\n",
      "\n",
      "Initial Data After All Changes:\n",
      "| MOVIES                              | YEAR        | GENRE                        | RATING   | ONE-LINE                                                                                                                                                                                                            | STARS                   | VOTES   | RunTime   | Gross   |\n",
      "|:------------------------------------|:------------|:-----------------------------|:---------|:--------------------------------------------------------------------------------------------------------------------------------------------------------------------------------------------------------------------|:------------------------|:--------|:----------|:--------|\n",
      "| Blood Red Sky                       | (2021)      | Action, Horror, Thriller     | 6.1      | A woman with a mysterious illness is forced into action when a group of terrorists attempt to hijack a transatlantic overnight flight.                                                                              | Director:               | 21,062  | 121       | nan     |\n",
      "|                                     |             |                              |          |                                                                                                                                                                                                                     | Peter Thorwarth         |         |           |         |\n",
      "|                                     |             |                              |          |                                                                                                                                                                                                                     | |                       |         |           |         |\n",
      "|                                     |             |                              |          |                                                                                                                                                                                                                     |     Stars:              |         |           |         |\n",
      "|                                     |             |                              |          |                                                                                                                                                                                                                     | Peri Baumeister,        |         |           |         |\n",
      "|                                     |             |                              |          |                                                                                                                                                                                                                     | Carl Anton Koch,        |         |           |         |\n",
      "|                                     |             |                              |          |                                                                                                                                                                                                                     | Alexander Scheer,       |         |           |         |\n",
      "|                                     |             |                              |          |                                                                                                                                                                                                                     | Kais Setti              |         |           |         |\n",
      "| Masters of the Universe: Revelation | (2021– )    | Animation, Action, Adventure | 5        | The war for Eternia begins again in what may be the final battle between He-Man and Skeletor. A new animated series from writer-director Kevin Smith.                                                               | Stars:                  | 17,870  | 25        | nan     |\n",
      "|                                     |             |                              |          |                                                                                                                                                                                                                     | Chris Wood,             |         |           |         |\n",
      "|                                     |             |                              |          |                                                                                                                                                                                                                     | Sarah Michelle Gellar,  |         |           |         |\n",
      "|                                     |             |                              |          |                                                                                                                                                                                                                     | Lena Headey,            |         |           |         |\n",
      "|                                     |             |                              |          |                                                                                                                                                                                                                     | Mark Hamill             |         |           |         |\n",
      "| The Walking Dead                    | (2010–2022) | Drama, Horror, Thriller      | 8.2      | Sheriff Deputy Rick Grimes wakes up from a coma to learn the world is in ruins and must lead a group of survivors to stay alive.                                                                                    | Stars:                  | 885,805 | 44        | nan     |\n",
      "|                                     |             |                              |          |                                                                                                                                                                                                                     | Andrew Lincoln,         |         |           |         |\n",
      "|                                     |             |                              |          |                                                                                                                                                                                                                     | Norman Reedus,          |         |           |         |\n",
      "|                                     |             |                              |          |                                                                                                                                                                                                                     | Melissa McBride,        |         |           |         |\n",
      "|                                     |             |                              |          |                                                                                                                                                                                                                     | Lauren Cohan            |         |           |         |\n",
      "| Rick and Morty                      | (2013– )    | Animation, Adventure, Comedy | 9.2      | An animated series that follows the exploits of a super scientist and his not-so-bright grandson.                                                                                                                   | Stars:                  | 414,849 | 23        | nan     |\n",
      "|                                     |             |                              |          |                                                                                                                                                                                                                     | Justin Roiland,         |         |           |         |\n",
      "|                                     |             |                              |          |                                                                                                                                                                                                                     | Chris Parnell,          |         |           |         |\n",
      "|                                     |             |                              |          |                                                                                                                                                                                                                     | Spencer Grammer,        |         |           |         |\n",
      "|                                     |             |                              |          |                                                                                                                                                                                                                     | Sarah Chalke            |         |           |         |\n",
      "| Army of Thieves                     | (2021)      | Action, Crime, Horror        | nan      | A prequel, set before the events of Army of the Dead, which focuses on German safecracker Ludwig Dieter leading a group of aspiring thieves on a top secret heist during the early stages of the zombie apocalypse. | Director:               | nan     | nan       | nan     |\n",
      "|                                     |             |                              |          |                                                                                                                                                                                                                     | Matthias Schweighöfer   |         |           |         |\n",
      "|                                     |             |                              |          |                                                                                                                                                                                                                     | |                       |         |           |         |\n",
      "|                                     |             |                              |          |                                                                                                                                                                                                                     |     Stars:              |         |           |         |\n",
      "|                                     |             |                              |          |                                                                                                                                                                                                                     | Matthias Schweighöfer,  |         |           |         |\n",
      "|                                     |             |                              |          |                                                                                                                                                                                                                     | Nathalie Emmanuel,      |         |           |         |\n",
      "|                                     |             |                              |          |                                                                                                                                                                                                                     | Ruby O. Fee,            |         |           |         |\n",
      "|                                     |             |                              |          |                                                                                                                                                                                                                     | Stuart Martin           |         |           |         |\n"
     ]
    }
   ],
   "source": [
    "# Checkout initial commit and data\n",
    "initial_commit_hash = '5274c5c1c461b380817a77a3eaf0bd468001b2ba'  \n",
    "run_command(f'git checkout {initial_commit_hash}')\n",
    "run_command('dvc checkout')\n",
    "\n",
    "# Read the initial dataset and print the head\n",
    "df_initial = pd.read_csv('movies.csv')\n",
    "print(\"Initial Data After All Changes:\")\n",
    "print(df_initial.head().to_markdown(index=False, numalign=\"left\", stralign=\"left\"))\n"
   ]
  }
 ],
 "metadata": {
  "kernelspec": {
   "display_name": "Python 3",
   "language": "python",
   "name": "python3"
  },
  "language_info": {
   "codemirror_mode": {
    "name": "ipython",
    "version": 3
   },
   "file_extension": ".py",
   "mimetype": "text/x-python",
   "name": "python",
   "nbconvert_exporter": "python",
   "pygments_lexer": "ipython3",
   "version": "3.12.4"
  }
 },
 "nbformat": 4,
 "nbformat_minor": 2
}
